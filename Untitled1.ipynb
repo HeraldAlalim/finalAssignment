{
  "metadata": {
    "kernelspec": {
      "name": "xpython",
      "display_name": "Python 3.13 (XPython)",
      "language": "python"
    },
    "language_info": {
      "file_extension": ".py",
      "mimetype": "text/x-python",
      "name": "python",
      "version": "3.13.1"
    }
  },
  "nbformat_minor": 5,
  "nbformat": 4,
  "cells": [
    {
      "id": "5dcf2023-56e2-4ffb-a3be-0dfd54c3002d",
      "cell_type": "markdown",
      "source": " # Data Science Final Assignment",
      "metadata": {}
    },
    {
      "id": "42a3ff7b-98e3-4e3e-ac6f-b57ab7f19934",
      "cell_type": "markdown",
      "source": "## Introduction\n\nThis notebook is the final assignment for the Data Science course.  \nIt demonstrates the use of Markdown for documentation and Python for code execution.  \nAll the required exercises are included below.\n",
      "metadata": {}
    },
    {
      "id": "0d74f117-dde0-4400-8046-ce93adc86e3c",
      "cell_type": "markdown",
      "source": "## Data Science Languages\n\n- Python  \n- R  \n- SQL  \n- Julia  \n- Scala\n",
      "metadata": {}
    },
    {
      "id": "e648b305-8391-4271-831d-1c32028b5586",
      "cell_type": "markdown",
      "source": "## Data Science Libraries\n\n- Pandas  \n- NumPy  \n- Matplotlib  \n- Scikit-learn  \n- TensorFlow\n",
      "metadata": {}
    },
    {
      "id": "cc27f479-b333-4602-aaaa-f33d2f5ea8a4",
      "cell_type": "markdown",
      "source": "## Data Science Tools\n\n| Tool          | Category            |\n|---------------|---------------------|\n| Jupyter       | Notebook             |\n| RStudio       | IDE                  |\n| Apache Spark  | Big Data Processing  |\n| TensorFlow    | Machine Learning     |\n| Tableau       | Data Visualization   |\n",
      "metadata": {}
    },
    {
      "id": "779f6fe7-65f7-4918-ad23-ca3a862bb1d4",
      "cell_type": "markdown",
      "source": "## Examples of Arithmetic Expressions\n\nBelow are some simple arithmetic operations using Python.\n",
      "metadata": {}
    },
    {
      "id": "d25e807c-3989-49cd-a5fb-bf2665a6584a",
      "cell_type": "code",
      "source": "# Multiply and Add\nresult = (3 * 4) + 5\nresult\n",
      "metadata": {
        "trusted": true
      },
      "outputs": [
        {
          "execution_count": 1,
          "output_type": "execute_result",
          "data": {
            "text/plain": "17"
          },
          "metadata": {}
        }
      ],
      "execution_count": 1
    },
    {
      "id": "e2605f39-b5b7-4fad-b74b-89c7615557f8",
      "cell_type": "code",
      "source": "# Convert minutes to hours\nminutes = 120\nhours = minutes / 60\nhours\n",
      "metadata": {
        "trusted": true
      },
      "outputs": [
        {
          "execution_count": 2,
          "output_type": "execute_result",
          "data": {
            "text/plain": "2.0"
          },
          "metadata": {}
        }
      ],
      "execution_count": 2
    },
    {
      "id": "f60b7d57-baff-4f83-8879-7ced983d2770",
      "cell_type": "markdown",
      "source": "## Objectives\n\n- Use Markdown formatting  \n- Perform arithmetic operations using Python  \n- List common data science tools and libraries  \n- Share a public notebook using GitHub\n",
      "metadata": {}
    },
    {
      "id": "4dbdb70d-bb9c-4ccd-8b5f-d0f199ac258a",
      "cell_type": "markdown",
      "source": "## Author\n\nHerald Vann D. Alalim\n",
      "metadata": {}
    }
  ]
}